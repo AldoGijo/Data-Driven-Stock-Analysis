{
 "cells": [
  {
   "cell_type": "code",
   "execution_count": 7,
   "id": "beb36bc6",
   "metadata": {},
   "outputs": [
    {
     "name": "stdout",
     "output_type": "stream",
     "text": [
      "Collecting tqdm\n",
      "  Downloading tqdm-4.67.1-py3-none-any.whl.metadata (57 kB)\n",
      "Requirement already satisfied: colorama in c:\\users\\aldo\\appdata\\roaming\\python\\python313\\site-packages (from tqdm) (0.4.6)\n",
      "Downloading tqdm-4.67.1-py3-none-any.whl (78 kB)\n",
      "Installing collected packages: tqdm\n",
      "Successfully installed tqdm-4.67.1\n",
      "Note: you may need to restart the kernel to use updated packages.\n"
     ]
    },
    {
     "name": "stderr",
     "output_type": "stream",
     "text": [
      "\n",
      "[notice] A new release of pip is available: 24.3.1 -> 25.1.1\n",
      "[notice] To update, run: python.exe -m pip install --upgrade pip\n"
     ]
    }
   ],
   "source": [
    "%pip install tqdm"
   ]
  },
  {
   "cell_type": "code",
   "execution_count": 9,
   "id": "30bdc7a9",
   "metadata": {},
   "outputs": [
    {
     "name": "stdout",
     "output_type": "stream",
     "text": [
      " Starting YAML to CSV conversion...\n",
      "\n"
     ]
    },
    {
     "name": "stderr",
     "output_type": "stream",
     "text": [
      "Reading YAML files: 0it [00:00, ?it/s]\n",
      "Reading YAML files: 100%|██████████| 20/20 [00:00<00:00, 34.00it/s]\n",
      "Reading YAML files: 100%|██████████| 21/21 [00:00<00:00, 36.02it/s]\n",
      "Reading YAML files: 100%|██████████| 20/20 [00:00<00:00, 42.66it/s]\n",
      "Reading YAML files: 100%|██████████| 22/22 [00:00<00:00, 39.93it/s]\n",
      "Reading YAML files: 100%|██████████| 21/21 [00:00<00:00, 45.46it/s]\n",
      "Reading YAML files: 100%|██████████| 19/19 [00:00<00:00, 41.16it/s]\n",
      "Reading YAML files: 100%|██████████| 20/20 [00:00<00:00, 46.35it/s]\n",
      "Reading YAML files: 100%|██████████| 22/22 [00:00<00:00, 44.93it/s]\n",
      "Reading YAML files: 100%|██████████| 19/19 [00:00<00:00, 44.49it/s]\n",
      "Reading YAML files: 100%|██████████| 22/22 [00:00<00:00, 42.10it/s]\n",
      "Reading YAML files: 100%|██████████| 21/21 [00:00<00:00, 46.31it/s]\n",
      "Reading YAML files: 100%|██████████| 21/21 [00:00<00:00, 47.46it/s]\n",
      "Reading YAML files: 100%|██████████| 22/22 [00:00<00:00, 46.90it/s]\n",
      "Reading YAML files: 100%|██████████| 14/14 [00:00<00:00, 47.27it/s]\n"
     ]
    },
    {
     "name": "stdout",
     "output_type": "stream",
     "text": [
      "\n",
      " Symbols found: ['SBIN', 'BAJFINANCE', 'TITAN', 'ITC', 'TCS', 'LT', 'TATACONSUM', 'RELIANCE', 'HCLTECH', 'JSWSTEEL', 'ULTRACEMCO', 'POWERGRID', 'INFY', 'TRENT', 'BHARTIARTL', 'TATAMOTORS', 'WIPRO', 'TECHM', 'NTPC', 'HINDUNILVR', 'APOLLOHOSP', 'M&M', 'GRASIM', 'ICICIBANK', 'ADANIENT', 'ADANIPORTS', 'BEL', 'BAJAJFINSV', 'EICHERMOT', 'COALINDIA', 'MARUTI', 'INDUSINDBK', 'ASIANPAINT', 'TATASTEEL', 'HDFCLIFE', 'DRREDDY', 'SUNPHARMA', 'KOTAKBANK', 'SHRIRAMFIN', 'NESTLEIND', 'ONGC', 'CIPLA', 'BPCL', 'BRITANNIA', 'SBILIFE', 'HINDALCO', 'HEROMOTOCO', 'AXISBANK', 'HDFCBANK', 'BAJAJ-AUTO']\n",
      " Saved: SBIN.csv (284 rows)\n",
      " Saved: BAJFINANCE.csv (284 rows)\n",
      " Saved: TITAN.csv (284 rows)\n",
      " Saved: ITC.csv (284 rows)\n",
      " Saved: TCS.csv (284 rows)\n",
      " Saved: LT.csv (284 rows)\n",
      " Saved: TATACONSUM.csv (284 rows)\n",
      " Saved: RELIANCE.csv (284 rows)\n",
      " Saved: HCLTECH.csv (284 rows)\n",
      " Saved: JSWSTEEL.csv (284 rows)\n",
      " Saved: ULTRACEMCO.csv (284 rows)\n",
      " Saved: POWERGRID.csv (284 rows)\n",
      " Saved: INFY.csv (284 rows)\n",
      " Saved: TRENT.csv (284 rows)\n",
      " Saved: BHARTIARTL.csv (284 rows)\n",
      " Saved: TATAMOTORS.csv (284 rows)\n",
      " Saved: WIPRO.csv (284 rows)\n",
      " Saved: TECHM.csv (284 rows)\n",
      " Saved: NTPC.csv (284 rows)\n",
      " Saved: HINDUNILVR.csv (284 rows)\n",
      " Saved: APOLLOHOSP.csv (284 rows)\n",
      " Saved: M&M.csv (284 rows)\n",
      " Saved: GRASIM.csv (284 rows)\n",
      " Saved: ICICIBANK.csv (284 rows)\n",
      " Saved: ADANIENT.csv (284 rows)\n",
      " Saved: ADANIPORTS.csv (284 rows)\n",
      " Saved: BEL.csv (284 rows)\n",
      " Saved: BAJAJFINSV.csv (284 rows)\n",
      " Saved: EICHERMOT.csv (284 rows)\n",
      " Saved: COALINDIA.csv (284 rows)\n",
      " Saved: MARUTI.csv (284 rows)\n",
      " Saved: INDUSINDBK.csv (284 rows)\n",
      " Saved: ASIANPAINT.csv (284 rows)\n",
      " Saved: TATASTEEL.csv (284 rows)\n",
      " Saved: HDFCLIFE.csv (284 rows)\n",
      " Saved: DRREDDY.csv (284 rows)\n",
      " Saved: SUNPHARMA.csv (284 rows)\n",
      " Saved: KOTAKBANK.csv (284 rows)\n",
      " Saved: SHRIRAMFIN.csv (284 rows)\n",
      " Saved: NESTLEIND.csv (284 rows)\n",
      " Saved: ONGC.csv (284 rows)\n",
      " Saved: CIPLA.csv (284 rows)\n",
      " Saved: BPCL.csv (284 rows)\n",
      " Saved: BRITANNIA.csv (284 rows)\n",
      " Saved: SBILIFE.csv (284 rows)\n",
      " Saved: HINDALCO.csv (284 rows)\n",
      " Saved: HEROMOTOCO.csv (284 rows)\n",
      " Saved: AXISBANK.csv (284 rows)\n",
      " Saved: HDFCBANK.csv (284 rows)\n",
      " Saved: BAJAJ-AUTO.csv (284 rows)\n",
      "\n",
      " All done!\n"
     ]
    }
   ],
   "source": [
    "import os\n",
    "import yaml\n",
    "import pandas as pd\n",
    "from tqdm import tqdm\n",
    "\n",
    "# Define paths\n",
    "RAW_DATA_PATH = r\"D:\\data-driven-stock-analysis\\data\\raw\\data\"\n",
    "PROCESSED_PATH = r\"D:\\data-driven-stock-analysis\\data\\processed\"\n",
    "\n",
    "def load_yaml_file(file_path):\n",
    "    try:\n",
    "        with open(file_path, 'r') as file:\n",
    "            data = yaml.safe_load(file)\n",
    "            if isinstance(data, list):\n",
    "                return data\n",
    "            else:\n",
    "                print(f\"Unexpected format in file: {file_path}\")\n",
    "                return []\n",
    "    except Exception as e:\n",
    "        print(f\"Error reading {file_path}: {e}\")\n",
    "        return []\n",
    "\n",
    "def extract_all_data(raw_path):\n",
    "    stock_data = {}\n",
    "\n",
    "    for root, _, files in os.walk(raw_path):\n",
    "        for file in tqdm(files, desc=\"Reading YAML files\"):\n",
    "            if file.endswith('.yaml'):\n",
    "                file_path = os.path.join(root, file)\n",
    "                records = load_yaml_file(file_path)\n",
    "                \n",
    "                for record in records:\n",
    "                    try:\n",
    "                        symbol = record.get('Ticker')\n",
    "                        if not symbol:\n",
    "                            continue\n",
    "                        if symbol not in stock_data:\n",
    "                            stock_data[symbol] = []\n",
    "                        stock_data[symbol].append(record)\n",
    "                    except Exception as e:\n",
    "                        print(f\"Error in record from {file_path}: {e}\")\n",
    "    return stock_data\n",
    "\n",
    "def save_to_csvs(stock_data, output_path):\n",
    "    os.makedirs(output_path, exist_ok=True)\n",
    "\n",
    "    for symbol, records in stock_data.items():\n",
    "        if not records:\n",
    "            continue\n",
    "        df = pd.DataFrame(records)\n",
    "\n",
    "        # Normalize column names\n",
    "        df.rename(columns={'Ticker': 'symbol'}, inplace=True)\n",
    "\n",
    "        if 'date' in df.columns:\n",
    "            df.sort_values('date', inplace=True)\n",
    "\n",
    "        output_file = os.path.join(output_path, f\"{symbol}.csv\")\n",
    "        try:\n",
    "            df.to_csv(output_file, index=False)\n",
    "            print(f\" Saved: {symbol}.csv ({len(df)} rows)\")\n",
    "        except Exception as e:\n",
    "            print(f\" Failed to save {symbol}.csv: {e}\")\n",
    "\n",
    "if __name__ == \"__main__\":\n",
    "    print(\" Starting YAML to CSV conversion...\\n\")\n",
    "    all_stock_data = extract_all_data(RAW_DATA_PATH)\n",
    "    print(f\"\\n Symbols found: {list(all_stock_data.keys())}\")\n",
    "    save_to_csvs(all_stock_data, PROCESSED_PATH)\n",
    "    print(\"\\n All done!\")\n"
   ]
  }
 ],
 "metadata": {
  "kernelspec": {
   "display_name": "Python 3",
   "language": "python",
   "name": "python3"
  },
  "language_info": {
   "codemirror_mode": {
    "name": "ipython",
    "version": 3
   },
   "file_extension": ".py",
   "mimetype": "text/x-python",
   "name": "python",
   "nbconvert_exporter": "python",
   "pygments_lexer": "ipython3",
   "version": "3.13.1"
  }
 },
 "nbformat": 4,
 "nbformat_minor": 5
}
